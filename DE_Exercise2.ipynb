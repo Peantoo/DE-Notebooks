{
  "nbformat": 4,
  "nbformat_minor": 0,
  "metadata": {
    "colab": {
      "provenance": [],
      "include_colab_link": true
    },
    "kernelspec": {
      "name": "python3",
      "display_name": "Python 3"
    },
    "language_info": {
      "name": "python"
    }
  },
  "cells": [
    {
      "cell_type": "markdown",
      "metadata": {
        "id": "view-in-github",
        "colab_type": "text"
      },
      "source": [
        "<a href=\"https://colab.research.google.com/github/Peantoo/DE-Notebooks/blob/main/DE_Exercise2.ipynb\" target=\"_parent\"><img src=\"https://colab.research.google.com/assets/colab-badge.svg\" alt=\"Open In Colab\"/></a>"
      ]
    },
    {
      "cell_type": "code",
      "execution_count": null,
      "metadata": {
        "id": "sCmrxXu5N5bx",
        "colab": {
          "base_uri": "https://localhost:8080/"
        },
        "outputId": "35236036-4964-4a5d-b8c6-126adc4e4567"
      },
      "outputs": [
        {
          "output_type": "stream",
          "name": "stdout",
          "text": [
            "Looking in indexes: https://pypi.org/simple, https://us-python.pkg.dev/colab-wheels/public/simple/\n",
            "Requirement already satisfied: fuzzywuzzy in /usr/local/lib/python3.7/dist-packages (0.18.0)\n"
          ]
        }
      ],
      "source": [
        "!pip install fuzzywuzzy\n",
        "\n",
        "import pandas as pd\n",
        "import numpy as np\n",
        "import fuzzywuzzy\n",
        "from fuzzywuzzy import process\n",
        "import chardet\n",
        "np.random.seed(0)"
      ]
    },
    {
      "cell_type": "markdown",
      "source": [
        "#Data"
      ],
      "metadata": {
        "id": "-j9IK1OWOGGR"
      }
    },
    {
      "cell_type": "markdown",
      "source": [
        "**TODO**\n",
        "\n",
        "1.   Identify the encoding of the data in filename\n",
        "2.   Read the csv into suicide_attacks variable using the correct encoding (the chardet module might come handy).\n"
      ],
      "metadata": {
        "id": "NiDALGfkOdDx"
      }
    },
    {
      "cell_type": "code",
      "source": [
        "filename = \"/content/drive/MyDrive/Colab Notebooks/Data Sets/PakistanSuicideAttacks Ver 11 (30-November-2017).csv\""
      ],
      "metadata": {
        "id": "FGt0BWiCbZRW"
      },
      "execution_count": null,
      "outputs": []
    },
    {
      "cell_type": "code",
      "source": [
        "rawdata = open(filename, \"rb\").read() #Read as binary \n",
        "enc_type = chardet.detect(rawdata) #Figure out encoding type"
      ],
      "metadata": {
        "id": "YM0RedIubcPO"
      },
      "execution_count": null,
      "outputs": []
    },
    {
      "cell_type": "code",
      "source": [
        "encoding = enc_type.get('encoding')\n",
        "\n",
        "suicide_attacks = pd.read_csv((filename), encoding=encoding)\n",
        "suicide_attacks.info()"
      ],
      "metadata": {
        "id": "e4cLge14OFhh",
        "colab": {
          "base_uri": "https://localhost:8080/"
        },
        "outputId": "e92820f7-7b62-47b6-d54e-41743d95e251"
      },
      "execution_count": null,
      "outputs": [
        {
          "output_type": "stream",
          "name": "stdout",
          "text": [
            "<class 'pandas.core.frame.DataFrame'>\n",
            "RangeIndex: 496 entries, 0 to 495\n",
            "Data columns (total 26 columns):\n",
            " #   Column                   Non-Null Count  Dtype  \n",
            "---  ------                   --------------  -----  \n",
            " 0   S#                       496 non-null    int64  \n",
            " 1   Date                     496 non-null    object \n",
            " 2   Islamic Date             342 non-null    object \n",
            " 3   Blast Day Type           486 non-null    object \n",
            " 4   Holiday Type             72 non-null     object \n",
            " 5   Time                     285 non-null    object \n",
            " 6   City                     496 non-null    object \n",
            " 7   Latitude                 493 non-null    float64\n",
            " 8   Longitude                493 non-null    object \n",
            " 9   Province                 496 non-null    object \n",
            " 10  Location                 493 non-null    object \n",
            " 11  Location Category        461 non-null    object \n",
            " 12  Location Sensitivity     460 non-null    object \n",
            " 13  Open/Closed Space        461 non-null    object \n",
            " 14  Influencing Event/Event  191 non-null    object \n",
            " 15  Target Type              470 non-null    object \n",
            " 16  Targeted Sect if any     448 non-null    object \n",
            " 17  Killed Min               350 non-null    float64\n",
            " 18  Killed Max               480 non-null    float64\n",
            " 19  Injured Min              365 non-null    float64\n",
            " 20  Injured Max              464 non-null    object \n",
            " 21  No. of Suicide Blasts    414 non-null    float64\n",
            " 22  Explosive Weight (max)   172 non-null    object \n",
            " 23  Hospital Names           297 non-null    object \n",
            " 24  Temperature(C)           491 non-null    float64\n",
            " 25  Temperature(F)           489 non-null    float64\n",
            "dtypes: float64(7), int64(1), object(18)\n",
            "memory usage: 100.9+ KB\n"
          ]
        }
      ]
    },
    {
      "cell_type": "markdown",
      "source": [
        "#Preliminary text pre-processing"
      ],
      "metadata": {
        "id": "PvtwMArQOGiS"
      }
    },
    {
      "cell_type": "markdown",
      "source": [
        "**TODO**\n",
        "\n",
        "\n",
        "\n",
        "\n",
        "1.   Clean the City column for inconsisntecies\n",
        "2.   Normalize the City column for upper or lowercase, spaces, etc.\n",
        "\n"
      ],
      "metadata": {
        "id": "FhisxKWTOeQ5"
      }
    },
    {
      "cell_type": "code",
      "source": [
        "# get all the unique values in the 'City' column\n",
        "cities = suicide_attacks['City'].unique()\n",
        "\n",
        "# sort them alphabetically and then take a closer look\n",
        "cities.sort()\n",
        "cities"
      ],
      "metadata": {
        "id": "9VKidJDDOgCh",
        "colab": {
          "base_uri": "https://localhost:8080/"
        },
        "outputId": "e290faf1-dddf-4801-995f-2434f878cdf5"
      },
      "execution_count": null,
      "outputs": [
        {
          "output_type": "execute_result",
          "data": {
            "text/plain": [
              "array(['ATTOCK', 'Attock ', 'Bajaur Agency', 'Bannu', 'Bhakkar ', 'Buner',\n",
              "       'Chakwal ', 'Chaman', 'Charsadda', 'Charsadda ', 'D. I Khan',\n",
              "       'D.G Khan', 'D.G Khan ', 'D.I Khan', 'D.I Khan ', 'Dara Adam Khel',\n",
              "       'Dara Adam khel', 'Fateh Jang', 'Ghallanai, Mohmand Agency ',\n",
              "       'Gujrat', 'Hangu', 'Haripur', 'Hayatabad', 'Islamabad',\n",
              "       'Islamabad ', 'Jacobabad', 'KURRAM AGENCY', 'Karachi', 'Karachi ',\n",
              "       'Karak', 'Khanewal', 'Khuzdar', 'Khyber Agency', 'Khyber Agency ',\n",
              "       'Kohat', 'Kohat ', 'Kuram Agency ', 'Lahore', 'Lahore ',\n",
              "       'Lakki Marwat', 'Lakki marwat', 'Lasbela', 'Lower Dir', 'MULTAN',\n",
              "       'Malakand ', 'Mansehra', 'Mardan', 'Mohmand Agency',\n",
              "       'Mohmand Agency ', 'Mohmand agency', 'Mosal Kor, Mohmand Agency',\n",
              "       'Multan', 'Muzaffarabad', 'North Waziristan', 'North waziristan',\n",
              "       'Nowshehra', 'Orakzai Agency', 'Peshawar', 'Peshawar ', 'Pishin',\n",
              "       'Poonch', 'Quetta', 'Quetta ', 'Rawalpindi', 'Sargodha',\n",
              "       'Sehwan town', 'Shabqadar-Charsadda', 'Shangla ', 'Shikarpur',\n",
              "       'Sialkot', 'South Waziristan', 'South waziristan', 'Sudhanoti',\n",
              "       'Sukkur', 'Swabi ', 'Swat', 'Swat ', 'Taftan',\n",
              "       'Tangi, Charsadda District', 'Tank', 'Tank ', 'Taunsa',\n",
              "       'Tirah Valley', 'Totalai', 'Upper Dir', 'Wagah', 'Zhob', 'bannu',\n",
              "       'karachi', 'karachi ', 'lakki marwat', 'peshawar', 'swat'],\n",
              "      dtype=object)"
            ]
          },
          "metadata": {},
          "execution_count": 61
        }
      ]
    },
    {
      "cell_type": "markdown",
      "source": [
        "Obviously a lot of errors. Many incorrect duplicates due to poor capitalization, poor spelling, poor punctuation, trailing spaces, it's a nightmare. Best to start from a clean slate. Make everything lowercase, remove trailing spaces, remove dupes, then apply name formatting. Then we can look for outliers. "
      ],
      "metadata": {
        "id": "6g-0-K03ePWN"
      }
    },
    {
      "cell_type": "markdown",
      "source": [
        "#Matching of inconsistent data entries"
      ],
      "metadata": {
        "id": "6mRNNA2COG1J"
      }
    },
    {
      "cell_type": "markdown",
      "source": [
        "**TODO**\n",
        "\n",
        "\n",
        "\n",
        "1.   Verify there are no more inconsistencies in the City column.\n",
        "2.   Feel free to use the fuzzywuzzy package to match an remove possible issues.\n",
        "\n",
        "\n",
        "\n",
        "\n",
        "\n",
        "\n",
        ">  Fuzzy matching: The process of automatically finding text strings that are very similar to the target string. In general, a string is considered \"closer\" to another one the fewer characters you'd need to change if you were transforming one string into another. So \"apple\" and \"snapple\" are two changes away from each other (add \"s\" and \"n\") while \"in\" and \"on\" and one change away (rplace \"i\" with \"o\"). You won't always be able to rely on fuzzy matching 100%, but it will usually end up saving you at least a little time.\n",
        "\n"
      ],
      "metadata": {
        "id": "TsiokE5DOe2h"
      }
    },
    {
      "cell_type": "code",
      "source": [
        "cities = suicide_attacks['City']\n",
        "cities = cities.str.lower()\n",
        "cities = cities.str.strip()\n",
        "cities = cities.unique()\n",
        "\n",
        "cities.sort()"
      ],
      "metadata": {
        "id": "EqeHr-09f5cV"
      },
      "execution_count": null,
      "outputs": []
    },
    {
      "cell_type": "code",
      "source": [
        "cities"
      ],
      "metadata": {
        "colab": {
          "base_uri": "https://localhost:8080/"
        },
        "id": "vfuNeKiIlLz_",
        "outputId": "47440159-4c6d-4b21-cf33-7507ba8564d5"
      },
      "execution_count": null,
      "outputs": [
        {
          "output_type": "execute_result",
          "data": {
            "text/plain": [
              "array(['attock', 'bajaur agency', 'bannu', 'bhakkar', 'buner', 'chakwal',\n",
              "       'chaman', 'charsadda', 'd. i khan', 'd.g khan', 'd.i khan',\n",
              "       'dara adam khel', 'fateh jang', 'ghallanai, mohmand agency',\n",
              "       'gujrat', 'hangu', 'haripur', 'hayatabad', 'islamabad',\n",
              "       'jacobabad', 'karachi', 'karak', 'khanewal', 'khuzdar',\n",
              "       'khyber agency', 'kohat', 'kuram agency', 'kurram agency',\n",
              "       'lahore', 'lakki marwat', 'lasbela', 'lower dir', 'malakand',\n",
              "       'mansehra', 'mardan', 'mohmand agency',\n",
              "       'mosal kor, mohmand agency', 'multan', 'muzaffarabad',\n",
              "       'north waziristan', 'nowshehra', 'orakzai agency', 'peshawar',\n",
              "       'pishin', 'poonch', 'quetta', 'rawalpindi', 'sargodha',\n",
              "       'sehwan town', 'shabqadar-charsadda', 'shangla', 'shikarpur',\n",
              "       'sialkot', 'south waziristan', 'sudhanoti', 'sukkur', 'swabi',\n",
              "       'swat', 'taftan', 'tangi, charsadda district', 'tank', 'taunsa',\n",
              "       'tirah valley', 'totalai', 'upper dir', 'wagah', 'zhob'],\n",
              "      dtype=object)"
            ]
          },
          "metadata": {},
          "execution_count": 64
        }
      ]
    },
    {
      "cell_type": "markdown",
      "source": [
        "Looks better but there's some obvious issues, like D.I Khan, D, I Khan, D.G Khan, etc. For some of them I'll need to look up the cities because I don't know which of these are real or not."
      ],
      "metadata": {
        "id": "1bIhu515bG5W"
      }
    },
    {
      "cell_type": "code",
      "source": [
        "# sort them alphabetically and then take a closer look\n",
        "cities2=cities.astype(str)\n",
        "\n",
        "print(\"\\n\".join(cities))"
      ],
      "metadata": {
        "id": "b2AajlO1OfEp",
        "colab": {
          "base_uri": "https://localhost:8080/"
        },
        "outputId": "08223e37-15cd-4f06-e74e-5990f4fc73a0"
      },
      "execution_count": null,
      "outputs": [
        {
          "output_type": "stream",
          "name": "stdout",
          "text": [
            "attock\n",
            "bajaur agency\n",
            "bannu\n",
            "bhakkar\n",
            "buner\n",
            "chakwal\n",
            "chaman\n",
            "charsadda\n",
            "d. i khan\n",
            "d.g khan\n",
            "d.i khan\n",
            "dara adam khel\n",
            "fateh jang\n",
            "ghallanai, mohmand agency\n",
            "gujrat\n",
            "hangu\n",
            "haripur\n",
            "hayatabad\n",
            "islamabad\n",
            "jacobabad\n",
            "karachi\n",
            "karak\n",
            "khanewal\n",
            "khuzdar\n",
            "khyber agency\n",
            "kohat\n",
            "kuram agency\n",
            "kurram agency\n",
            "lahore\n",
            "lakki marwat\n",
            "lasbela\n",
            "lower dir\n",
            "malakand\n",
            "mansehra\n",
            "mardan\n",
            "mohmand agency\n",
            "mosal kor, mohmand agency\n",
            "multan\n",
            "muzaffarabad\n",
            "north waziristan\n",
            "nowshehra\n",
            "orakzai agency\n",
            "peshawar\n",
            "pishin\n",
            "poonch\n",
            "quetta\n",
            "rawalpindi\n",
            "sargodha\n",
            "sehwan town\n",
            "shabqadar-charsadda\n",
            "shangla\n",
            "shikarpur\n",
            "sialkot\n",
            "south waziristan\n",
            "sudhanoti\n",
            "sukkur\n",
            "swabi\n",
            "swat\n",
            "taftan\n",
            "tangi, charsadda district\n",
            "tank\n",
            "taunsa\n",
            "tirah valley\n",
            "totalai\n",
            "upper dir\n",
            "wagah\n",
            "zhob\n"
          ]
        }
      ]
    },
    {
      "cell_type": "markdown",
      "source": [
        "This is obvious a case for fuzzy matching. Any time you need to correct values where there's typos or small variances, using fuzzy matching to replace is a simple solution. Unfortunately, my experience with NLP is less hands-on. I tried for a long time to come up with a unique solution, but sometimes, just Googling a coding problem and using Stack Exchange or existing answers is the way to go. \n",
        "\n",
        "Could I have written the code below on my own? Sure, but in this case, that's inefficient and I don't have enough experience with fuzzy matching to do it quickly nor the time to spend on it.\n",
        " \n"
      ],
      "metadata": {
        "id": "nEJkRn-fe57h"
      }
    },
    {
      "cell_type": "code",
      "source": [
        "matches = fuzzywuzzy.process.extract(\"d. i khan\", cities, limit=5, scorer=fuzzywuzzy.fuzz.token_sort_ratio)"
      ],
      "metadata": {
        "id": "aYV398-xWmNe"
      },
      "execution_count": null,
      "outputs": []
    },
    {
      "cell_type": "code",
      "source": [
        "print(matches)"
      ],
      "metadata": {
        "id": "hef5BAAJKzZh",
        "colab": {
          "base_uri": "https://localhost:8080/"
        },
        "outputId": "9a77c211-29b8-44a0-cb56-85db910bc35f"
      },
      "execution_count": null,
      "outputs": [
        {
          "output_type": "stream",
          "name": "stdout",
          "text": [
            "[('d. i khan', 100), ('d.i khan', 100), ('d.g khan', 88), ('khanewal', 50), ('sudhanoti', 47)]\n"
          ]
        }
      ]
    },
    {
      "cell_type": "markdown",
      "source": [
        "Obviously D.I Khan is the same, but I don't know what D.I or D.G stands for, so I had to look it up. Apparently they should both be \"D.I. Khan,\" which is Dera Ismail Khan. D.G. Khan is Dera Ghazi Khan, so it is not a typo. I should keep my ratio to replace above 90%."
      ],
      "metadata": {
        "id": "fWJDybjHf2yX"
      }
    },
    {
      "cell_type": "code",
      "source": [
        "moh_matches = fuzzywuzzy.process.extract(\"mohmand agency\", cities, limit=5, scorer=fuzzywuzzy.fuzz.token_sort_ratio)\n",
        "print(moh_matches)"
      ],
      "metadata": {
        "colab": {
          "base_uri": "https://localhost:8080/"
        },
        "id": "3VK1F4e9hzj4",
        "outputId": "5e145f2a-9012-4e48-91c6-afdeeb8e3c2a"
      },
      "execution_count": null,
      "outputs": [
        {
          "output_type": "stream",
          "name": "stdout",
          "text": [
            "[('mohmand agency', 100), ('ghallanai, mohmand agency', 74), ('mosal kor, mohmand agency', 74), ('orakzai agency', 64), ('kuram agency', 62)]\n"
          ]
        }
      ]
    },
    {
      "cell_type": "markdown",
      "source": [
        "Interestingly, there are occasionally entries for an entire area as well as cities within that area, like \"charsadda / tangi, charsadda\" and \"mohmand agency / mosal kor, mohmand agency.\" Fuzzy matching wouldn't be good for combining these, since it's not sure whether we actually want them to be the same. Do I need to combine them? Do I need to keep them separate? The answers to these questions determine what I can set my min_ratio at. Sometimes using judgement and reasoning is still necessary."
      ],
      "metadata": {
        "id": "l6Pxp3w8g48B"
      }
    },
    {
      "cell_type": "code",
      "source": [
        "# Function to replace rows in the provided column of the provided dataframe\n",
        "# That match the provided string above the provided ratio with the provided string\n",
        "def replace_matches_in_column(df, column, string_to_match, min_ratio = 90):\n",
        "       strings = df[column].unique()\n",
        "    \n",
        "       matches = fuzzywuzzy.process.extract(string_to_match, strings, limit=5, scorer=fuzzywuzzy.fuzz.token_sort_ratio)\n",
        "\n",
        "       close_matches = [matches[0] for matches in matches if matches[1] >= min_ratio]\n",
        "\n",
        "       rows_with_matches = df[column].isin(close_matches)\n",
        "\n",
        "       df.loc[rows_with_matches, column] = string_to_match\n",
        "    \n",
        "       print(\"All done!\")"
      ],
      "metadata": {
        "id": "7THex8V8g4GB"
      },
      "execution_count": null,
      "outputs": []
    },
    {
      "cell_type": "code",
      "source": [
        "replace_matches_in_column(df=suicide_attacks, column='City', string_to_match=\"d.i khan\")"
      ],
      "metadata": {
        "colab": {
          "base_uri": "https://localhost:8080/"
        },
        "id": "BTeYfqS9fyZS",
        "outputId": "d7fc0588-8a9c-448e-bbf9-8031f1e9f500"
      },
      "execution_count": null,
      "outputs": [
        {
          "output_type": "stream",
          "name": "stdout",
          "text": [
            "All done!\n"
          ]
        }
      ]
    },
    {
      "cell_type": "code",
      "source": [
        "# my previous code didn't directly alter the original file, so I will need to reapply those transformations here.\n",
        "suicide_attacks['City'] = suicide_attacks['City'].str.lower()\n",
        "suicide_attacks['City'] = suicide_attacks['City'].str.strip()\n",
        "cities = suicide_attacks['City'].unique()\n",
        "cities.sort()\n",
        "cities"
      ],
      "metadata": {
        "colab": {
          "base_uri": "https://localhost:8080/"
        },
        "id": "exmfiZJ_iqo4",
        "outputId": "1492d9e6-0e13-4099-9d79-8fdb70bcf72f"
      },
      "execution_count": null,
      "outputs": [
        {
          "output_type": "execute_result",
          "data": {
            "text/plain": [
              "array(['attock', 'bajaur agency', 'bannu', 'bhakkar', 'buner', 'chakwal',\n",
              "       'chaman', 'charsadda', 'd.g khan', 'd.i khan', 'dara adam khel',\n",
              "       'fateh jang', 'ghallanai, mohmand agency', 'gujrat', 'hangu',\n",
              "       'haripur', 'hayatabad', 'islamabad', 'jacobabad', 'karachi',\n",
              "       'karak', 'khanewal', 'khuzdar', 'khyber agency', 'kohat',\n",
              "       'kuram agency', 'kurram agency', 'lahore', 'lakki marwat',\n",
              "       'lasbela', 'lower dir', 'malakand', 'mansehra', 'mardan',\n",
              "       'mohmand agency', 'mosal kor, mohmand agency', 'multan',\n",
              "       'muzaffarabad', 'north waziristan', 'nowshehra', 'orakzai agency',\n",
              "       'peshawar', 'pishin', 'poonch', 'quetta', 'rawalpindi', 'sargodha',\n",
              "       'sehwan town', 'shabqadar-charsadda', 'shangla', 'shikarpur',\n",
              "       'sialkot', 'south waziristan', 'sudhanoti', 'sukkur', 'swabi',\n",
              "       'swat', 'taftan', 'tangi, charsadda district', 'tank', 'taunsa',\n",
              "       'tirah valley', 'totalai', 'upper dir', 'wagah', 'zhob'],\n",
              "      dtype=object)"
            ]
          },
          "metadata": {},
          "execution_count": 73
        }
      ]
    }
  ]
}