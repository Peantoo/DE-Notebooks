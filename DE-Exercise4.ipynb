{
  "nbformat": 4,
  "nbformat_minor": 0,
  "metadata": {
    "colab": {
      "provenance": [],
      "mount_file_id": "1mtLCY00_X3ewPfzYbL-WI7e-68_UjerT",
      "authorship_tag": "ABX9TyNBNtKOxC6sxI96nlIm5WOX",
      "include_colab_link": true
    },
    "kernelspec": {
      "name": "python3",
      "display_name": "Python 3"
    },
    "language_info": {
      "name": "python"
    }
  },
  "cells": [
    {
      "cell_type": "markdown",
      "metadata": {
        "id": "view-in-github",
        "colab_type": "text"
      },
      "source": [
        "<a href=\"https://colab.research.google.com/github/Peantoo/DE-Notebooks/blob/main/DE-Exercise4.ipynb\" target=\"_parent\"><img src=\"https://colab.research.google.com/assets/colab-badge.svg\" alt=\"Open In Colab\"/></a>"
      ]
    },
    {
      "cell_type": "code",
      "execution_count": null,
      "metadata": {
        "id": "eqyA4qh-6ERO"
      },
      "outputs": [],
      "source": [
        "import pandas as pd\n",
        "import numpy as np\n",
        "\n",
        "import scipy\n",
        "from scipy import stats\n",
        "from mlxtend.preprocessing import minmax_scaling\n",
        "from sklearn.preprocessing import StandardScaler\n",
        "from sklearn.preprocessing import MinMaxScaler\n",
        "from sklearn.preprocessing import PowerTransformer\n",
        "import seaborn as sns\n",
        "from matplotlib import pyplot as plt\n",
        "\n",
        "np.random.seed(0)"
      ]
    },
    {
      "cell_type": "code",
      "source": [
        "df = pd.read_csv('/content/drive/MyDrive/Colab Notebooks/Data Sets/ks-projects-201801.csv')\n",
        "df"
      ],
      "metadata": {
        "id": "Id5fXKFe6PFj",
        "colab": {
          "base_uri": "https://localhost:8080/",
          "height": 659
        },
        "outputId": "28821c8b-7c13-4ef0-cf70-63bad950d7f0"
      },
      "execution_count": null,
      "outputs": [
        {
          "output_type": "execute_result",
          "data": {
            "text/plain": [
              "                ID                                               name  \\\n",
              "0       1000002330                    The Songs of Adelaide & Abullah   \n",
              "1       1000003930      Greeting From Earth: ZGAC Arts Capsule For ET   \n",
              "2       1000004038                                     Where is Hank?   \n",
              "3       1000007540  ToshiCapital Rekordz Needs Help to Complete Album   \n",
              "4       1000011046  Community Film Project: The Art of Neighborhoo...   \n",
              "...            ...                                                ...   \n",
              "378656   999976400  ChknTruk Nationwide Charity Drive 2014 (Canceled)   \n",
              "378657   999977640                                          The Tribe   \n",
              "378658   999986353  Walls of Remedy- New lesbian Romantic Comedy f...   \n",
              "378659   999987933                           BioDefense Education Kit   \n",
              "378660   999988282                  Nou Renmen Ayiti!  We Love Haiti!   \n",
              "\n",
              "               category main_category currency    deadline     goal  \\\n",
              "0                Poetry    Publishing      GBP  2015-10-09   1000.0   \n",
              "1        Narrative Film  Film & Video      USD  2017-11-01  30000.0   \n",
              "2        Narrative Film  Film & Video      USD  2013-02-26  45000.0   \n",
              "3                 Music         Music      USD  2012-04-16   5000.0   \n",
              "4          Film & Video  Film & Video      USD  2015-08-29  19500.0   \n",
              "...                 ...           ...      ...         ...      ...   \n",
              "378656      Documentary  Film & Video      USD  2014-10-17  50000.0   \n",
              "378657   Narrative Film  Film & Video      USD  2011-07-19   1500.0   \n",
              "378658   Narrative Film  Film & Video      USD  2010-08-16  15000.0   \n",
              "378659       Technology    Technology      USD  2016-02-13  15000.0   \n",
              "378660  Performance Art           Art      USD  2011-08-16   2000.0   \n",
              "\n",
              "                   launched  pledged     state  backers country  usd pledged  \\\n",
              "0       2015-08-11 12:12:28      0.0    failed        0      GB          0.0   \n",
              "1       2017-09-02 04:43:57   2421.0    failed       15      US        100.0   \n",
              "2       2013-01-12 00:20:50    220.0    failed        3      US        220.0   \n",
              "3       2012-03-17 03:24:11      1.0    failed        1      US          1.0   \n",
              "4       2015-07-04 08:35:03   1283.0  canceled       14      US       1283.0   \n",
              "...                     ...      ...       ...      ...     ...          ...   \n",
              "378656  2014-09-17 02:35:30     25.0  canceled        1      US         25.0   \n",
              "378657  2011-06-22 03:35:14    155.0    failed        5      US        155.0   \n",
              "378658  2010-07-01 19:40:30     20.0    failed        1      US         20.0   \n",
              "378659  2016-01-13 18:13:53    200.0    failed        6      US        200.0   \n",
              "378660  2011-07-19 09:07:47    524.0    failed       17      US        524.0   \n",
              "\n",
              "        usd_pledged_real  usd_goal_real  \n",
              "0                    0.0        1533.95  \n",
              "1                 2421.0       30000.00  \n",
              "2                  220.0       45000.00  \n",
              "3                    1.0        5000.00  \n",
              "4                 1283.0       19500.00  \n",
              "...                  ...            ...  \n",
              "378656              25.0       50000.00  \n",
              "378657             155.0        1500.00  \n",
              "378658              20.0       15000.00  \n",
              "378659             200.0       15000.00  \n",
              "378660             524.0        2000.00  \n",
              "\n",
              "[378661 rows x 15 columns]"
            ],
            "text/html": [
              "\n",
              "  <div id=\"df-90cf6db2-263b-451f-8010-86e548e49b85\">\n",
              "    <div class=\"colab-df-container\">\n",
              "      <div>\n",
              "<style scoped>\n",
              "    .dataframe tbody tr th:only-of-type {\n",
              "        vertical-align: middle;\n",
              "    }\n",
              "\n",
              "    .dataframe tbody tr th {\n",
              "        vertical-align: top;\n",
              "    }\n",
              "\n",
              "    .dataframe thead th {\n",
              "        text-align: right;\n",
              "    }\n",
              "</style>\n",
              "<table border=\"1\" class=\"dataframe\">\n",
              "  <thead>\n",
              "    <tr style=\"text-align: right;\">\n",
              "      <th></th>\n",
              "      <th>ID</th>\n",
              "      <th>name</th>\n",
              "      <th>category</th>\n",
              "      <th>main_category</th>\n",
              "      <th>currency</th>\n",
              "      <th>deadline</th>\n",
              "      <th>goal</th>\n",
              "      <th>launched</th>\n",
              "      <th>pledged</th>\n",
              "      <th>state</th>\n",
              "      <th>backers</th>\n",
              "      <th>country</th>\n",
              "      <th>usd pledged</th>\n",
              "      <th>usd_pledged_real</th>\n",
              "      <th>usd_goal_real</th>\n",
              "    </tr>\n",
              "  </thead>\n",
              "  <tbody>\n",
              "    <tr>\n",
              "      <th>0</th>\n",
              "      <td>1000002330</td>\n",
              "      <td>The Songs of Adelaide &amp; Abullah</td>\n",
              "      <td>Poetry</td>\n",
              "      <td>Publishing</td>\n",
              "      <td>GBP</td>\n",
              "      <td>2015-10-09</td>\n",
              "      <td>1000.0</td>\n",
              "      <td>2015-08-11 12:12:28</td>\n",
              "      <td>0.0</td>\n",
              "      <td>failed</td>\n",
              "      <td>0</td>\n",
              "      <td>GB</td>\n",
              "      <td>0.0</td>\n",
              "      <td>0.0</td>\n",
              "      <td>1533.95</td>\n",
              "    </tr>\n",
              "    <tr>\n",
              "      <th>1</th>\n",
              "      <td>1000003930</td>\n",
              "      <td>Greeting From Earth: ZGAC Arts Capsule For ET</td>\n",
              "      <td>Narrative Film</td>\n",
              "      <td>Film &amp; Video</td>\n",
              "      <td>USD</td>\n",
              "      <td>2017-11-01</td>\n",
              "      <td>30000.0</td>\n",
              "      <td>2017-09-02 04:43:57</td>\n",
              "      <td>2421.0</td>\n",
              "      <td>failed</td>\n",
              "      <td>15</td>\n",
              "      <td>US</td>\n",
              "      <td>100.0</td>\n",
              "      <td>2421.0</td>\n",
              "      <td>30000.00</td>\n",
              "    </tr>\n",
              "    <tr>\n",
              "      <th>2</th>\n",
              "      <td>1000004038</td>\n",
              "      <td>Where is Hank?</td>\n",
              "      <td>Narrative Film</td>\n",
              "      <td>Film &amp; Video</td>\n",
              "      <td>USD</td>\n",
              "      <td>2013-02-26</td>\n",
              "      <td>45000.0</td>\n",
              "      <td>2013-01-12 00:20:50</td>\n",
              "      <td>220.0</td>\n",
              "      <td>failed</td>\n",
              "      <td>3</td>\n",
              "      <td>US</td>\n",
              "      <td>220.0</td>\n",
              "      <td>220.0</td>\n",
              "      <td>45000.00</td>\n",
              "    </tr>\n",
              "    <tr>\n",
              "      <th>3</th>\n",
              "      <td>1000007540</td>\n",
              "      <td>ToshiCapital Rekordz Needs Help to Complete Album</td>\n",
              "      <td>Music</td>\n",
              "      <td>Music</td>\n",
              "      <td>USD</td>\n",
              "      <td>2012-04-16</td>\n",
              "      <td>5000.0</td>\n",
              "      <td>2012-03-17 03:24:11</td>\n",
              "      <td>1.0</td>\n",
              "      <td>failed</td>\n",
              "      <td>1</td>\n",
              "      <td>US</td>\n",
              "      <td>1.0</td>\n",
              "      <td>1.0</td>\n",
              "      <td>5000.00</td>\n",
              "    </tr>\n",
              "    <tr>\n",
              "      <th>4</th>\n",
              "      <td>1000011046</td>\n",
              "      <td>Community Film Project: The Art of Neighborhoo...</td>\n",
              "      <td>Film &amp; Video</td>\n",
              "      <td>Film &amp; Video</td>\n",
              "      <td>USD</td>\n",
              "      <td>2015-08-29</td>\n",
              "      <td>19500.0</td>\n",
              "      <td>2015-07-04 08:35:03</td>\n",
              "      <td>1283.0</td>\n",
              "      <td>canceled</td>\n",
              "      <td>14</td>\n",
              "      <td>US</td>\n",
              "      <td>1283.0</td>\n",
              "      <td>1283.0</td>\n",
              "      <td>19500.00</td>\n",
              "    </tr>\n",
              "    <tr>\n",
              "      <th>...</th>\n",
              "      <td>...</td>\n",
              "      <td>...</td>\n",
              "      <td>...</td>\n",
              "      <td>...</td>\n",
              "      <td>...</td>\n",
              "      <td>...</td>\n",
              "      <td>...</td>\n",
              "      <td>...</td>\n",
              "      <td>...</td>\n",
              "      <td>...</td>\n",
              "      <td>...</td>\n",
              "      <td>...</td>\n",
              "      <td>...</td>\n",
              "      <td>...</td>\n",
              "      <td>...</td>\n",
              "    </tr>\n",
              "    <tr>\n",
              "      <th>378656</th>\n",
              "      <td>999976400</td>\n",
              "      <td>ChknTruk Nationwide Charity Drive 2014 (Canceled)</td>\n",
              "      <td>Documentary</td>\n",
              "      <td>Film &amp; Video</td>\n",
              "      <td>USD</td>\n",
              "      <td>2014-10-17</td>\n",
              "      <td>50000.0</td>\n",
              "      <td>2014-09-17 02:35:30</td>\n",
              "      <td>25.0</td>\n",
              "      <td>canceled</td>\n",
              "      <td>1</td>\n",
              "      <td>US</td>\n",
              "      <td>25.0</td>\n",
              "      <td>25.0</td>\n",
              "      <td>50000.00</td>\n",
              "    </tr>\n",
              "    <tr>\n",
              "      <th>378657</th>\n",
              "      <td>999977640</td>\n",
              "      <td>The Tribe</td>\n",
              "      <td>Narrative Film</td>\n",
              "      <td>Film &amp; Video</td>\n",
              "      <td>USD</td>\n",
              "      <td>2011-07-19</td>\n",
              "      <td>1500.0</td>\n",
              "      <td>2011-06-22 03:35:14</td>\n",
              "      <td>155.0</td>\n",
              "      <td>failed</td>\n",
              "      <td>5</td>\n",
              "      <td>US</td>\n",
              "      <td>155.0</td>\n",
              "      <td>155.0</td>\n",
              "      <td>1500.00</td>\n",
              "    </tr>\n",
              "    <tr>\n",
              "      <th>378658</th>\n",
              "      <td>999986353</td>\n",
              "      <td>Walls of Remedy- New lesbian Romantic Comedy f...</td>\n",
              "      <td>Narrative Film</td>\n",
              "      <td>Film &amp; Video</td>\n",
              "      <td>USD</td>\n",
              "      <td>2010-08-16</td>\n",
              "      <td>15000.0</td>\n",
              "      <td>2010-07-01 19:40:30</td>\n",
              "      <td>20.0</td>\n",
              "      <td>failed</td>\n",
              "      <td>1</td>\n",
              "      <td>US</td>\n",
              "      <td>20.0</td>\n",
              "      <td>20.0</td>\n",
              "      <td>15000.00</td>\n",
              "    </tr>\n",
              "    <tr>\n",
              "      <th>378659</th>\n",
              "      <td>999987933</td>\n",
              "      <td>BioDefense Education Kit</td>\n",
              "      <td>Technology</td>\n",
              "      <td>Technology</td>\n",
              "      <td>USD</td>\n",
              "      <td>2016-02-13</td>\n",
              "      <td>15000.0</td>\n",
              "      <td>2016-01-13 18:13:53</td>\n",
              "      <td>200.0</td>\n",
              "      <td>failed</td>\n",
              "      <td>6</td>\n",
              "      <td>US</td>\n",
              "      <td>200.0</td>\n",
              "      <td>200.0</td>\n",
              "      <td>15000.00</td>\n",
              "    </tr>\n",
              "    <tr>\n",
              "      <th>378660</th>\n",
              "      <td>999988282</td>\n",
              "      <td>Nou Renmen Ayiti!  We Love Haiti!</td>\n",
              "      <td>Performance Art</td>\n",
              "      <td>Art</td>\n",
              "      <td>USD</td>\n",
              "      <td>2011-08-16</td>\n",
              "      <td>2000.0</td>\n",
              "      <td>2011-07-19 09:07:47</td>\n",
              "      <td>524.0</td>\n",
              "      <td>failed</td>\n",
              "      <td>17</td>\n",
              "      <td>US</td>\n",
              "      <td>524.0</td>\n",
              "      <td>524.0</td>\n",
              "      <td>2000.00</td>\n",
              "    </tr>\n",
              "  </tbody>\n",
              "</table>\n",
              "<p>378661 rows × 15 columns</p>\n",
              "</div>\n",
              "      <button class=\"colab-df-convert\" onclick=\"convertToInteractive('df-90cf6db2-263b-451f-8010-86e548e49b85')\"\n",
              "              title=\"Convert this dataframe to an interactive table.\"\n",
              "              style=\"display:none;\">\n",
              "        \n",
              "  <svg xmlns=\"http://www.w3.org/2000/svg\" height=\"24px\"viewBox=\"0 0 24 24\"\n",
              "       width=\"24px\">\n",
              "    <path d=\"M0 0h24v24H0V0z\" fill=\"none\"/>\n",
              "    <path d=\"M18.56 5.44l.94 2.06.94-2.06 2.06-.94-2.06-.94-.94-2.06-.94 2.06-2.06.94zm-11 1L8.5 8.5l.94-2.06 2.06-.94-2.06-.94L8.5 2.5l-.94 2.06-2.06.94zm10 10l.94 2.06.94-2.06 2.06-.94-2.06-.94-.94-2.06-.94 2.06-2.06.94z\"/><path d=\"M17.41 7.96l-1.37-1.37c-.4-.4-.92-.59-1.43-.59-.52 0-1.04.2-1.43.59L10.3 9.45l-7.72 7.72c-.78.78-.78 2.05 0 2.83L4 21.41c.39.39.9.59 1.41.59.51 0 1.02-.2 1.41-.59l7.78-7.78 2.81-2.81c.8-.78.8-2.07 0-2.86zM5.41 20L4 18.59l7.72-7.72 1.47 1.35L5.41 20z\"/>\n",
              "  </svg>\n",
              "      </button>\n",
              "      \n",
              "  <style>\n",
              "    .colab-df-container {\n",
              "      display:flex;\n",
              "      flex-wrap:wrap;\n",
              "      gap: 12px;\n",
              "    }\n",
              "\n",
              "    .colab-df-convert {\n",
              "      background-color: #E8F0FE;\n",
              "      border: none;\n",
              "      border-radius: 50%;\n",
              "      cursor: pointer;\n",
              "      display: none;\n",
              "      fill: #1967D2;\n",
              "      height: 32px;\n",
              "      padding: 0 0 0 0;\n",
              "      width: 32px;\n",
              "    }\n",
              "\n",
              "    .colab-df-convert:hover {\n",
              "      background-color: #E2EBFA;\n",
              "      box-shadow: 0px 1px 2px rgba(60, 64, 67, 0.3), 0px 1px 3px 1px rgba(60, 64, 67, 0.15);\n",
              "      fill: #174EA6;\n",
              "    }\n",
              "\n",
              "    [theme=dark] .colab-df-convert {\n",
              "      background-color: #3B4455;\n",
              "      fill: #D2E3FC;\n",
              "    }\n",
              "\n",
              "    [theme=dark] .colab-df-convert:hover {\n",
              "      background-color: #434B5C;\n",
              "      box-shadow: 0px 1px 3px 1px rgba(0, 0, 0, 0.15);\n",
              "      filter: drop-shadow(0px 1px 2px rgba(0, 0, 0, 0.3));\n",
              "      fill: #FFFFFF;\n",
              "    }\n",
              "  </style>\n",
              "\n",
              "      <script>\n",
              "        const buttonEl =\n",
              "          document.querySelector('#df-90cf6db2-263b-451f-8010-86e548e49b85 button.colab-df-convert');\n",
              "        buttonEl.style.display =\n",
              "          google.colab.kernel.accessAllowed ? 'block' : 'none';\n",
              "\n",
              "        async function convertToInteractive(key) {\n",
              "          const element = document.querySelector('#df-90cf6db2-263b-451f-8010-86e548e49b85');\n",
              "          const dataTable =\n",
              "            await google.colab.kernel.invokeFunction('convertToInteractive',\n",
              "                                                     [key], {});\n",
              "          if (!dataTable) return;\n",
              "\n",
              "          const docLinkHtml = 'Like what you see? Visit the ' +\n",
              "            '<a target=\"_blank\" href=https://colab.research.google.com/notebooks/data_table.ipynb>data table notebook</a>'\n",
              "            + ' to learn more about interactive tables.';\n",
              "          element.innerHTML = '';\n",
              "          dataTable['output_type'] = 'display_data';\n",
              "          await google.colab.output.renderOutput(dataTable, element);\n",
              "          const docLink = document.createElement('div');\n",
              "          docLink.innerHTML = docLinkHtml;\n",
              "          element.appendChild(docLink);\n",
              "        }\n",
              "      </script>\n",
              "    </div>\n",
              "  </div>\n",
              "  "
            ]
          },
          "metadata": {},
          "execution_count": 34
        }
      ]
    },
    {
      "cell_type": "markdown",
      "source": [
        "#TODO\n",
        "\n",
        "##Assess whether scaling or normalization makes more sense.\n",
        "##Notes\n",
        "\n",
        "###You want to build a linear regression model to predict someone's grades given how much time they spend on various activities during a normal school week. You notice that your measurements for how much time students spend studying aren't normally distributed: some students spend almost no time studying and others study for four or more hours every day. Should you scale or normalize this variable?\n",
        "\n",
        "\n",
        "\n",
        "> This one should use standarization. From experience I know that this method works best when you have a dataset that should be a gaussian distribution but it has a lot of outliers, like some students having zero hours and some having 4 hours. Any time you have a possible gaussian distribution, standardizing is probably the way to go. I would probably just use the common Z-score standardization. \n",
        "\n",
        "\n",
        "\n",
        "###You're still working on your grades study, but you want to include information on how students perform on several fitness tests as well. You have information on how many jumping jacks and push-ups each student can complete in a minute. However, you notice that students perform far more jumping jacks than push-ups: the average for the former is 40, and for the latter only 10. Should you scale or normalize these variables?\n",
        "\n",
        "\n",
        "> Since there is a large gap between the averages for the two variables, this one should use normalization so that we can better see the correlation between the two instead of jumping-jacks dominating and seeming more important. Set it all between 0 and 1 so we can easily compare. Do this with a MinMaxScaler. We don't need anything like Box-Cox or Yeo-Johnson because we are comparing two different features, not one feature with overrepresentation on one end and a large variance on the other.\n",
        "\n",
        "\n",
        "\n",
        "\n",
        "> I just want to note that from personal experiences, I typically wouldn't use min-max scaling for anything other than CNNs. I find that standarization has worked better in the past for basically every project I've done as it helps deal with outliers much better than simply scaling everything. Since image recognition CNNs don't deal with outliers since they are typically capped in a range of 0-255, min-max works perfectly fine for finding the global minima. \n",
        "\n",
        "\n",
        "\n"
      ],
      "metadata": {
        "id": "r29tpeS59CHZ"
      }
    },
    {
      "cell_type": "markdown",
      "source": [
        "#Scaling\n",
        "###TODO\n",
        "\n",
        "1.   Scale the usd_goal_real from 0 to 1\n",
        "2.   Plot the original & scaled data together to compare\n",
        "3.   Scale the goal from 0 to 1\n",
        "4.   Plot the original & scaled data together to compare\n",
        "\n",
        "\n",
        "\n",
        "\n",
        "\n",
        "\n"
      ],
      "metadata": {
        "id": "8i7IWyLI8BH_"
      }
    },
    {
      "cell_type": "code",
      "source": [
        "df2 = df.usd_goal_real\n",
        "dfminmax = df.usd_goal_real.values\n",
        "dfminmax = dfminmax.reshape(-1, 1)\n"
      ],
      "metadata": {
        "id": "fVcbjcep85v5"
      },
      "execution_count": null,
      "outputs": []
    },
    {
      "cell_type": "code",
      "source": [
        "df2.describe()"
      ],
      "metadata": {
        "id": "RnjWj9CTs3I4"
      },
      "execution_count": null,
      "outputs": []
    },
    {
      "cell_type": "code",
      "source": [
        "type(dfminmax)"
      ],
      "metadata": {
        "colab": {
          "base_uri": "https://localhost:8080/"
        },
        "id": "iqOe9qhv2eIs",
        "outputId": "05b58ac4-c066-4eee-f9d1-a64e05692365"
      },
      "execution_count": null,
      "outputs": [
        {
          "output_type": "execute_result",
          "data": {
            "text/plain": [
              "numpy.ndarray"
            ]
          },
          "metadata": {},
          "execution_count": 37
        }
      ]
    },
    {
      "cell_type": "code",
      "source": [
        "#dfminmax = minmax_scaling(dfminmax, columns = [0])\n",
        "#dfminmax = pd.DataFrame(dfminmax)\n",
        "#dfminmax.apply(lambda col:pd.to_numeric(col, errors='coerce'))"
      ],
      "metadata": {
        "id": "piMV1lJGBe6-"
      },
      "execution_count": null,
      "outputs": []
    },
    {
      "cell_type": "code",
      "source": [
        "##Try to use SKlearn MinMaxScaler\n",
        "scaler1 = MinMaxScaler()\n",
        "dfminmax = scaler1.fit_transform(dfminmax)"
      ],
      "metadata": {
        "id": "RsQ4jKAb20wN"
      },
      "execution_count": null,
      "outputs": []
    },
    {
      "cell_type": "code",
      "source": [
        "sns.distplot(df2)"
      ],
      "metadata": {
        "colab": {
          "base_uri": "https://localhost:8080/",
          "height": 363
        },
        "id": "Ymggr2oNQ-TW",
        "outputId": "cde1e832-cb76-4b8c-adf7-7e31592f7720"
      },
      "execution_count": null,
      "outputs": [
        {
          "output_type": "stream",
          "name": "stderr",
          "text": [
            "/usr/local/lib/python3.7/dist-packages/seaborn/distributions.py:2619: FutureWarning: `distplot` is a deprecated function and will be removed in a future version. Please adapt your code to use either `displot` (a figure-level function with similar flexibility) or `histplot` (an axes-level function for histograms).\n",
            "  warnings.warn(msg, FutureWarning)\n"
          ]
        },
        {
          "output_type": "execute_result",
          "data": {
            "text/plain": [
              "<matplotlib.axes._subplots.AxesSubplot at 0x7ff63aff3150>"
            ]
          },
          "metadata": {},
          "execution_count": 40
        },
        {
          "output_type": "display_data",
          "data": {
            "text/plain": [
              "<Figure size 432x288 with 1 Axes>"
            ],
            "image/png": "[encoded data removed]"
          },
          "metadata": {
            "needs_background": "light"
          }
        }
      ]
    },
    {
      "cell_type": "code",
      "source": [
        "sns.distplot(dfminmax) "
      ],
      "metadata": {
        "colab": {
          "base_uri": "https://localhost:8080/",
          "height": 337
        },
        "id": "KqlDDTpSRTUN",
        "outputId": "0497aa4e-705d-4b3f-df7e-17422eebaba1"
      },
      "execution_count": null,
      "outputs": [
        {
          "output_type": "stream",
          "name": "stderr",
          "text": [
            "/usr/local/lib/python3.7/dist-packages/seaborn/distributions.py:2619: FutureWarning: `distplot` is a deprecated function and will be removed in a future version. Please adapt your code to use either `displot` (a figure-level function with similar flexibility) or `histplot` (an axes-level function for histograms).\n",
            "  warnings.warn(msg, FutureWarning)\n"
          ]
        },
        {
          "output_type": "execute_result",
          "data": {
            "text/plain": [
              "<matplotlib.axes._subplots.AxesSubplot at 0x7ff636bdc510>"
            ]
          },
          "metadata": {},
          "execution_count": 41
        },
        {
          "output_type": "display_data",
          "data": {
            "text/plain": [
              "<Figure size 432x288 with 1 Axes>"
            ],
            "image/png": "[encoded data removed]"
          },
          "metadata": {
            "needs_background": "light"
          }
        }
      ]
    },
    {
      "cell_type": "markdown",
      "source": [
        "This doesn't seem to help that much...at least for visualization purposes. It's a different story if it's just for training, as everything is now between 0 and 1."
      ],
      "metadata": {
        "id": "b4nRiR3owf2I"
      }
    },
    {
      "cell_type": "markdown",
      "source": [
        "Notes for discussion: As is usual for most coding, I spent hours trying to figure out why the second plot wouldn't load/was taking forever to process. I tried all sorts of methods for plotting the data in different ways. The current method using SKLearn's MinMaxScaler was what I was trying when I realized I had written \"sns.displot\" instead of \"sns.distplot.\" After adding the t, everything worked fine. I left a lot of the commented out code but there have been MANY iterations of me trying different minmax methods. "
      ],
      "metadata": {
        "id": "RqAeo2oIVNXt"
      }
    },
    {
      "cell_type": "markdown",
      "source": [
        "#Normalization\n",
        "###TODO\n",
        "\n",
        "\n",
        "\n",
        "1.  Normalize the usd_pledged_real column with a Box-Cox\n",
        "2.  Plot the original & normalzied data together to compare\n",
        "3.  Normalize the pledged column with a Box-Cox\n",
        "4.  Plot the original & normalzied data together to compare\n",
        "\n",
        "\n"
      ],
      "metadata": {
        "id": "CabswD878EC-"
      }
    },
    {
      "cell_type": "markdown",
      "source": [
        "#usd_pledged_real"
      ],
      "metadata": {
        "id": "MqbWKpJ3_HlU"
      }
    },
    {
      "cell_type": "code",
      "source": [
        "usd_real = df.usd_pledged_real"
      ],
      "metadata": {
        "id": "mcdmhoen8MZe"
      },
      "execution_count": null,
      "outputs": []
    },
    {
      "cell_type": "code",
      "source": [
        "#scipy.stats.boxcox(usd_real, lmbda=None) # Get ValueError: Data must be positive."
      ],
      "metadata": {
        "id": "vc9Blkb5XXcW"
      },
      "execution_count": null,
      "outputs": []
    },
    {
      "cell_type": "markdown",
      "source": [
        "Apparently some of the \"pledged real\" info is negative...I could use Box-Cox, but then I'd have to eliminate some data. If my goal here was to only measure profit, that's probably fine, but that isn't stated. Since I don't like deleting negative values since it might affect the outcome, I'm going to use Numpy & SKLearn again to use Yeo-Johnson since it can handle zeros and negatives."
      ],
      "metadata": {
        "id": "eXj9PqKTYdPN"
      }
    },
    {
      "cell_type": "code",
      "source": [
        "usd_real = pd.DataFrame(df.usd_pledged_real).values #Make and Array so I can use PowerTransformer, which uses Yeo-Johnson by default. "
      ],
      "metadata": {
        "id": "bAcPtlt4_ezc"
      },
      "execution_count": null,
      "outputs": []
    },
    {
      "cell_type": "code",
      "source": [
        "scaler2 = PowerTransformer()"
      ],
      "metadata": {
        "id": "xQgnd-Rl_9K8"
      },
      "execution_count": null,
      "outputs": []
    },
    {
      "cell_type": "code",
      "source": [
        "usd_real = scaler2.fit_transform(usd_real)"
      ],
      "metadata": {
        "id": "BDQJVV31AKSM"
      },
      "execution_count": null,
      "outputs": []
    },
    {
      "cell_type": "code",
      "source": [
        "dfusd_real = pd.DataFrame(usd_real)"
      ],
      "metadata": {
        "id": "eNIgaSosATT0"
      },
      "execution_count": null,
      "outputs": []
    },
    {
      "cell_type": "code",
      "source": [
        "dfusd_real.describe()"
      ],
      "metadata": {
        "id": "_sq0flvmAcDc"
      },
      "execution_count": null,
      "outputs": []
    },
    {
      "cell_type": "code",
      "source": [
        "original = pd.DataFrame(df.usd_pledged_real)\n",
        "fig, ax=plt.subplots(1,2)\n",
        "sns.distplot(original, ax=ax[0])\n",
        "ax[0].set_title(\"Original\")\n",
        "sns.distplot(dfusd_real, ax=ax[1])\n",
        "ax[1].set_title(\"Yeo-Johnson Normalized\")"
      ],
      "metadata": {
        "colab": {
          "base_uri": "https://localhost:8080/",
          "height": 401
        },
        "id": "2i7LSinoAoVc",
        "outputId": "1278eb4f-77d9-4e68-9bf2-06cbbee50c97"
      },
      "execution_count": null,
      "outputs": [
        {
          "output_type": "stream",
          "name": "stderr",
          "text": [
            "/usr/local/lib/python3.7/dist-packages/seaborn/distributions.py:2619: FutureWarning: `distplot` is a deprecated function and will be removed in a future version. Please adapt your code to use either `displot` (a figure-level function with similar flexibility) or `histplot` (an axes-level function for histograms).\n",
            "  warnings.warn(msg, FutureWarning)\n",
            "/usr/local/lib/python3.7/dist-packages/seaborn/distributions.py:2619: FutureWarning: `distplot` is a deprecated function and will be removed in a future version. Please adapt your code to use either `displot` (a figure-level function with similar flexibility) or `histplot` (an axes-level function for histograms).\n",
            "  warnings.warn(msg, FutureWarning)\n"
          ]
        },
        {
          "output_type": "execute_result",
          "data": {
            "text/plain": [
              "Text(0.5, 1.0, 'Yeo-Johnson Normalized')"
            ]
          },
          "metadata": {},
          "execution_count": 49
        },
        {
          "output_type": "display_data",
          "data": {
            "text/plain": [
              "<Figure size 432x288 with 2 Axes>"
            ],
            "image/png": "[encoded data removed]"
          },
          "metadata": {
            "needs_background": "light"
          }
        }
      ]
    },
    {
      "cell_type": "markdown",
      "source": [
        "#Pledged"
      ],
      "metadata": {
        "id": "0JhgN-Lr_EvM"
      }
    },
    {
      "cell_type": "code",
      "source": [
        "pledged = pd.DataFrame(df.pledged)\n"
      ],
      "metadata": {
        "id": "KrG8WAdkY_Ad"
      },
      "execution_count": null,
      "outputs": []
    },
    {
      "cell_type": "code",
      "source": [
        "#dfbox = np.reshape(df.usd_pledged_real.values, (-1,1))\n",
        "pledged = scaler2.fit_transform(pledged)\n",
        "pledgedminmax = scaler1.fit_transform(pledged)"
      ],
      "metadata": {
        "id": "2nqOVS2r8WVk"
      },
      "execution_count": null,
      "outputs": []
    },
    {
      "cell_type": "code",
      "source": [
        "pledged"
      ],
      "metadata": {
        "id": "vcYGJcUuZTvN"
      },
      "execution_count": null,
      "outputs": []
    },
    {
      "cell_type": "code",
      "source": [
        "pledged2 = pd.DataFrame(pledged)\n",
        "pledged2.describe()"
      ],
      "metadata": {
        "id": "EcMdmJKtbwGl"
      },
      "execution_count": null,
      "outputs": []
    },
    {
      "cell_type": "markdown",
      "source": [
        "Mean & std are both 0, that's good. Interestingly, the min is just under zero, but the max is now 4.78. That's not bad."
      ],
      "metadata": {
        "id": "7VoNlVwK9KrO"
      }
    },
    {
      "cell_type": "code",
      "source": [
        "original2 = pd.DataFrame(df.pledged)\n",
        "fig, ax=plt.subplots(1,2)\n",
        "sns.distplot(original2, ax=ax[0])\n",
        "ax[0].set_title(\"Original\")\n",
        "sns.distplot(pledged2, ax=ax[1])\n",
        "ax[1].set_title(\"Yeo-Johnson Normalized\")"
      ],
      "metadata": {
        "colab": {
          "base_uri": "https://localhost:8080/",
          "height": 401
        },
        "id": "Q87Qg3vCalCt",
        "outputId": "0fcd8fbd-00d3-41a8-8ef5-53cb94fa8365"
      },
      "execution_count": null,
      "outputs": [
        {
          "output_type": "stream",
          "name": "stderr",
          "text": [
            "/usr/local/lib/python3.7/dist-packages/seaborn/distributions.py:2619: FutureWarning: `distplot` is a deprecated function and will be removed in a future version. Please adapt your code to use either `displot` (a figure-level function with similar flexibility) or `histplot` (an axes-level function for histograms).\n",
            "  warnings.warn(msg, FutureWarning)\n",
            "/usr/local/lib/python3.7/dist-packages/seaborn/distributions.py:2619: FutureWarning: `distplot` is a deprecated function and will be removed in a future version. Please adapt your code to use either `displot` (a figure-level function with similar flexibility) or `histplot` (an axes-level function for histograms).\n",
            "  warnings.warn(msg, FutureWarning)\n"
          ]
        },
        {
          "output_type": "execute_result",
          "data": {
            "text/plain": [
              "Text(0.5, 1.0, 'Yeo-Johnson Normalized')"
            ]
          },
          "metadata": {},
          "execution_count": 54
        },
        {
          "output_type": "display_data",
          "data": {
            "text/plain": [
              "<Figure size 432x288 with 2 Axes>"
            ],
            "image/png": "[encoded data removed]"
          },
          "metadata": {
            "needs_background": "light"
          }
        }
      ]
    },
    {
      "cell_type": "markdown",
      "source": [
        "Looks much better, but it's probably worth looking into what exactly the negative values are all about and whether I should get rid of them and use Box-Cox instead. Honestly, I'm fairly sure it will just end up looking similar but with a small initial spike, since it seems to have turned into a decent Gaussian Distribution."
      ],
      "metadata": {
        "id": "CN-dhiJv-NwV"
      }
    },
    {
      "cell_type": "code",
      "source": [
        "def plot():\n",
        "    plt.figure(figsize=(8,6))\n",
        "\n",
        "    plt.scatter(dfusd_real, pledged2, color='red',\n",
        "            label='Yeo-Johnson Real', alpha=0.3)\n",
        "\n",
        "    #plt.scatter(df_minmax[:,0], df_minmax[:,1],\n",
        "            #color='blue', label='min-max scaled [min=0, max=1]', alpha=0.3)\n",
        "\n",
        "    plt.title('Real vs Pledged')\n",
        "    plt.xlabel('Real Pledged USD')\n",
        "    plt.ylabel('Pledged')\n",
        "    plt.legend(loc='upper left')\n",
        "    plt.grid()\n",
        "\n",
        "    plt.tight_layout()\n",
        "\n",
        "plot()\n",
        "plt.show()"
      ],
      "metadata": {
        "colab": {
          "base_uri": "https://localhost:8080/",
          "height": 441
        },
        "id": "jih19Lf7uV1q",
        "outputId": "2abf031d-92ed-4a57-d802-f99554628307"
      },
      "execution_count": null,
      "outputs": [
        {
          "output_type": "display_data",
          "data": {
            "text/plain": [
              "<Figure size 576x432 with 1 Axes>"
            ],
            "image/png": "[encoded data removed]"
          },
          "metadata": {
            "needs_background": "light"
          }
        }
      ]
    },
    {
      "cell_type": "markdown",
      "source": [
        "I expected all of these to be on the same line, as the Usd real value shouldn't be much different from the Pledged value. I'd need to find places where the value isn't the same and look at them."
      ],
      "metadata": {
        "id": "nrvHyKYyFl6q"
      }
    },
    {
      "cell_type": "code",
      "source": [
        "dfrealpledged = pd.DataFrame(df.usd_pledged_real)\n",
        "dfpledged = pd.DataFrame(df.pledged)\n",
        "dfconcat = dfrealpledged.append(dfpledged, ignore_index=False)"
      ],
      "metadata": {
        "id": "RdeN4qiMJmlY"
      },
      "execution_count": null,
      "outputs": []
    },
    {
      "cell_type": "code",
      "source": [
        "#concat the two, run boolean\n",
        "dfcompare = dfconcat[df['usd_pledged_real'] != df['pledged']]\n"
      ],
      "metadata": {
        "colab": {
          "base_uri": "https://localhost:8080/"
        },
        "id": "ZvgdkiHJJV6V",
        "outputId": "32fe7bd9-8916-4cf1-c0aa-4c14f20d2639"
      },
      "execution_count": null,
      "outputs": [
        {
          "output_type": "stream",
          "name": "stderr",
          "text": [
            "/usr/local/lib/python3.7/dist-packages/ipykernel_launcher.py:2: UserWarning: Boolean Series key will be reindexed to match DataFrame index.\n",
            "  \n"
          ]
        }
      ]
    },
    {
      "cell_type": "code",
      "source": [
        "dfcompare"
      ],
      "metadata": {
        "colab": {
          "base_uri": "https://localhost:8080/",
          "height": 424
        },
        "id": "e1bq9WBhNDTW",
        "outputId": "a4da7a23-8f3f-4c44-f859-e1b2ca492446"
      },
      "execution_count": null,
      "outputs": [
        {
          "output_type": "execute_result",
          "data": {
            "text/plain": [
              "        usd_pledged_real  pledged\n",
              "14             121857.33      NaN\n",
              "21                  0.81      NaN\n",
              "23                  6.29      NaN\n",
              "27              42174.03      NaN\n",
              "28                160.60      NaN\n",
              "...                  ...      ...\n",
              "378636               NaN   5435.0\n",
              "378642               NaN   1246.0\n",
              "378645               NaN   2738.0\n",
              "378651               NaN   5501.0\n",
              "378652               NaN  21500.0\n",
              "\n",
              "[138978 rows x 2 columns]"
            ],
            "text/html": [
              "\n",
              "  <div id=\"df-def267d1-b033-4ef3-abc6-ace3a577064f\">\n",
              "    <div class=\"colab-df-container\">\n",
              "      <div>\n",
              "<style scoped>\n",
              "    .dataframe tbody tr th:only-of-type {\n",
              "        vertical-align: middle;\n",
              "    }\n",
              "\n",
              "    .dataframe tbody tr th {\n",
              "        vertical-align: top;\n",
              "    }\n",
              "\n",
              "    .dataframe thead th {\n",
              "        text-align: right;\n",
              "    }\n",
              "</style>\n",
              "<table border=\"1\" class=\"dataframe\">\n",
              "  <thead>\n",
              "    <tr style=\"text-align: right;\">\n",
              "      <th></th>\n",
              "      <th>usd_pledged_real</th>\n",
              "      <th>pledged</th>\n",
              "    </tr>\n",
              "  </thead>\n",
              "  <tbody>\n",
              "    <tr>\n",
              "      <th>14</th>\n",
              "      <td>121857.33</td>\n",
              "      <td>NaN</td>\n",
              "    </tr>\n",
              "    <tr>\n",
              "      <th>21</th>\n",
              "      <td>0.81</td>\n",
              "      <td>NaN</td>\n",
              "    </tr>\n",
              "    <tr>\n",
              "      <th>23</th>\n",
              "      <td>6.29</td>\n",
              "      <td>NaN</td>\n",
              "    </tr>\n",
              "    <tr>\n",
              "      <th>27</th>\n",
              "      <td>42174.03</td>\n",
              "      <td>NaN</td>\n",
              "    </tr>\n",
              "    <tr>\n",
              "      <th>28</th>\n",
              "      <td>160.60</td>\n",
              "      <td>NaN</td>\n",
              "    </tr>\n",
              "    <tr>\n",
              "      <th>...</th>\n",
              "      <td>...</td>\n",
              "      <td>...</td>\n",
              "    </tr>\n",
              "    <tr>\n",
              "      <th>378636</th>\n",
              "      <td>NaN</td>\n",
              "      <td>5435.0</td>\n",
              "    </tr>\n",
              "    <tr>\n",
              "      <th>378642</th>\n",
              "      <td>NaN</td>\n",
              "      <td>1246.0</td>\n",
              "    </tr>\n",
              "    <tr>\n",
              "      <th>378645</th>\n",
              "      <td>NaN</td>\n",
              "      <td>2738.0</td>\n",
              "    </tr>\n",
              "    <tr>\n",
              "      <th>378651</th>\n",
              "      <td>NaN</td>\n",
              "      <td>5501.0</td>\n",
              "    </tr>\n",
              "    <tr>\n",
              "      <th>378652</th>\n",
              "      <td>NaN</td>\n",
              "      <td>21500.0</td>\n",
              "    </tr>\n",
              "  </tbody>\n",
              "</table>\n",
              "<p>138978 rows × 2 columns</p>\n",
              "</div>\n",
              "      <button class=\"colab-df-convert\" onclick=\"convertToInteractive('df-def267d1-b033-4ef3-abc6-ace3a577064f')\"\n",
              "              title=\"Convert this dataframe to an interactive table.\"\n",
              "              style=\"display:none;\">\n",
              "        \n",
              "  <svg xmlns=\"http://www.w3.org/2000/svg\" height=\"24px\"viewBox=\"0 0 24 24\"\n",
              "       width=\"24px\">\n",
              "    <path d=\"M0 0h24v24H0V0z\" fill=\"none\"/>\n",
              "    <path d=\"M18.56 5.44l.94 2.06.94-2.06 2.06-.94-2.06-.94-.94-2.06-.94 2.06-2.06.94zm-11 1L8.5 8.5l.94-2.06 2.06-.94-2.06-.94L8.5 2.5l-.94 2.06-2.06.94zm10 10l.94 2.06.94-2.06 2.06-.94-2.06-.94-.94-2.06-.94 2.06-2.06.94z\"/><path d=\"M17.41 7.96l-1.37-1.37c-.4-.4-.92-.59-1.43-.59-.52 0-1.04.2-1.43.59L10.3 9.45l-7.72 7.72c-.78.78-.78 2.05 0 2.83L4 21.41c.39.39.9.59 1.41.59.51 0 1.02-.2 1.41-.59l7.78-7.78 2.81-2.81c.8-.78.8-2.07 0-2.86zM5.41 20L4 18.59l7.72-7.72 1.47 1.35L5.41 20z\"/>\n",
              "  </svg>\n",
              "      </button>\n",
              "      \n",
              "  <style>\n",
              "    .colab-df-container {\n",
              "      display:flex;\n",
              "      flex-wrap:wrap;\n",
              "      gap: 12px;\n",
              "    }\n",
              "\n",
              "    .colab-df-convert {\n",
              "      background-color: #E8F0FE;\n",
              "      border: none;\n",
              "      border-radius: 50%;\n",
              "      cursor: pointer;\n",
              "      display: none;\n",
              "      fill: #1967D2;\n",
              "      height: 32px;\n",
              "      padding: 0 0 0 0;\n",
              "      width: 32px;\n",
              "    }\n",
              "\n",
              "    .colab-df-convert:hover {\n",
              "      background-color: #E2EBFA;\n",
              "      box-shadow: 0px 1px 2px rgba(60, 64, 67, 0.3), 0px 1px 3px 1px rgba(60, 64, 67, 0.15);\n",
              "      fill: #174EA6;\n",
              "    }\n",
              "\n",
              "    [theme=dark] .colab-df-convert {\n",
              "      background-color: #3B4455;\n",
              "      fill: #D2E3FC;\n",
              "    }\n",
              "\n",
              "    [theme=dark] .colab-df-convert:hover {\n",
              "      background-color: #434B5C;\n",
              "      box-shadow: 0px 1px 3px 1px rgba(0, 0, 0, 0.15);\n",
              "      filter: drop-shadow(0px 1px 2px rgba(0, 0, 0, 0.3));\n",
              "      fill: #FFFFFF;\n",
              "    }\n",
              "  </style>\n",
              "\n",
              "      <script>\n",
              "        const buttonEl =\n",
              "          document.querySelector('#df-def267d1-b033-4ef3-abc6-ace3a577064f button.colab-df-convert');\n",
              "        buttonEl.style.display =\n",
              "          google.colab.kernel.accessAllowed ? 'block' : 'none';\n",
              "\n",
              "        async function convertToInteractive(key) {\n",
              "          const element = document.querySelector('#df-def267d1-b033-4ef3-abc6-ace3a577064f');\n",
              "          const dataTable =\n",
              "            await google.colab.kernel.invokeFunction('convertToInteractive',\n",
              "                                                     [key], {});\n",
              "          if (!dataTable) return;\n",
              "\n",
              "          const docLinkHtml = 'Like what you see? Visit the ' +\n",
              "            '<a target=\"_blank\" href=https://colab.research.google.com/notebooks/data_table.ipynb>data table notebook</a>'\n",
              "            + ' to learn more about interactive tables.';\n",
              "          element.innerHTML = '';\n",
              "          dataTable['output_type'] = 'display_data';\n",
              "          await google.colab.output.renderOutput(dataTable, element);\n",
              "          const docLink = document.createElement('div');\n",
              "          docLink.innerHTML = docLinkHtml;\n",
              "          element.appendChild(docLink);\n",
              "        }\n",
              "      </script>\n",
              "    </div>\n",
              "  </div>\n",
              "  "
            ]
          },
          "metadata": {},
          "execution_count": 88
        }
      ]
    },
    {
      "cell_type": "markdown",
      "source": [
        "I'm not entirely sure what to make of this and it's time to call it quits. I'll probably dig into this even more on my off hours, just out of curiosity."
      ],
      "metadata": {
        "id": "2oQ7s_9jOJcP"
      }
    }
  ]
}